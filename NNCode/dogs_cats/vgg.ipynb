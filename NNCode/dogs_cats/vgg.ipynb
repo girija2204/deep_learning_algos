{
 "cells": [
  {
   "cell_type": "code",
   "execution_count": null,
   "metadata": {
    "collapsed": true
   },
   "outputs": [],
   "source": [
    "import tensorflow as tf\n",
    "import numpy as np\n",
    "\n",
    "training_data = np.load('train_data.npy',allow_pickle=True)\n",
    "testing_data = np.load('test_data.npy',allow_pickle=True)\n",
    "\n",
    "model = tf.keras.models.Sequential([\n",
    "    tf.keras.layers.Conv2D(filters=64,kernel_size=(3,3),strides=(1,1),padding='same',activation='relu',input_shape=((60,60,1))),\n",
    "    tf.keras.layers.Conv2D(filters=64,kernel_size=(3,3),strides=(1,1),padding='same',activation='relu'),\n",
    "\n",
    "    tf.keras.layers.MaxPool2D(pool_size=(2,2)),\n",
    "    tf.keras.layers.Conv2D(filters=128,kernel_size=(3,3),strides=(1,1),padding='same',activation='relu'),\n",
    "    tf.keras.layers.Conv2D(filters=128,kernel_size=(3,3),strides=(1,1),padding='same',activation='relu'),\n",
    "\n",
    "    tf.keras.layers.MaxPool2D(pool_size=(2,2)),\n",
    "    tf.keras.layers.Conv2D(filters=256,kernel_size=(3,3),strides=(1,1),padding='same',activation='relu'),\n",
    "    tf.keras.layers.Conv2D(filters=256,kernel_size=(3,3),strides=(1,1),padding='same',activation='relu'),\n",
    "    tf.keras.layers.Conv2D(filters=256,kernel_size=(3,3),strides=(1,1),padding='same',activation='relu'),\n",
    "\n",
    "    tf.keras.layers.MaxPool2D(pool_size=(2,2)),\n",
    "    tf.keras.layers.Conv2D(filters=512,kernel_size=(3,3),strides=(1,1),padding='same',activation='relu'),\n",
    "    tf.keras.layers.Conv2D(filters=512,kernel_size=(3,3),strides=(1,1),padding='same',activation='relu'),\n",
    "    tf.keras.layers.Conv2D(filters=512,kernel_size=(3,3),strides=(1,1),padding='same',activation='relu'),\n",
    "\n",
    "    tf.keras.layers.MaxPool2D(pool_size=(2,2)),\n",
    "    tf.keras.layers.Conv2D(filters=512,kernel_size=(3,3),strides=(1,1),padding='same',activation='relu'),\n",
    "    tf.keras.layers.Conv2D(filters=512,kernel_size=(3,3),strides=(1,1),padding='same',activation='relu'),\n",
    "    tf.keras.layers.Conv2D(filters=512,kernel_size=(3,3),strides=(1,1),padding='same',activation='relu'),\n",
    "\n",
    "    tf.keras.layers.MaxPool2D(pool_size=(2,2)),\n",
    "    tf.keras.layers.Flatten(),\n",
    "    tf.keras.layers.Dense(activation='relu',units=4096),\n",
    "    tf.keras.layers.Dense(activation='relu',units=4096),\n",
    "    tf.keras.layers.Dense(activation='softmax',units=1000)\n",
    "])\n",
    "\n",
    "model.compile(optimizer=tf.keras.optimizers.RMSprop(),\n",
    "              loss=tf.keras.losses.sparse_categorical_crossentropy,\n",
    "              metrics=['accuracy'])\n",
    "\n",
    "X_train = np.array([i[0] for i in training_data])\n",
    "Y_train = np.array([i[1] for i in training_data])\n",
    "X_train = X_train[:,:,:,np.newaxis]\n",
    "\n",
    "model.fit(X_train,Y_train,epochs=5,batch_size=64)\n",
    "\n",
    "X_test = np.array([i for i in testing_data])\n",
    "\n",
    "Y_test = model.predict(X_test)\n",
    "print(Y_test)"
   ]
  }
 ],
 "metadata": {
  "kernelspec": {
   "display_name": "Python 2",
   "language": "python",
   "name": "python2"
  },
  "language_info": {
   "codemirror_mode": {
    "name": "ipython",
    "version": 2
   },
   "file_extension": ".py",
   "mimetype": "text/x-python",
   "name": "python",
   "nbconvert_exporter": "python",
   "pygments_lexer": "ipython2",
   "version": "2.7.6"
  }
 },
 "nbformat": 4,
 "nbformat_minor": 0
}
